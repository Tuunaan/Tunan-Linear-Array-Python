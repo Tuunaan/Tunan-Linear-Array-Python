{
  "nbformat": 4,
  "nbformat_minor": 0,
  "metadata": {
    "colab": {
      "provenance": []
    },
    "kernelspec": {
      "name": "python3",
      "display_name": "Python 3"
    },
    "language_info": {
      "name": "python"
    }
  },
  "cells": [
    {
      "cell_type": "code",
      "execution_count": 1,
      "metadata": {
        "colab": {
          "base_uri": "https://localhost:8080/"
        },
        "id": "zTPoG7rNAOkr",
        "outputId": "60a32ef5-b863-4adf-f5f5-0231d8f66664"
      },
      "outputs": [
        {
          "output_type": "stream",
          "name": "stdout",
          "text": [
            "0 index 10\n",
            "1 index 20\n",
            "2 index 30\n",
            "3 index 40\n",
            "4 index 50\n"
          ]
        }
      ],
      "source": [
        "def iterating(a):\n",
        "  for i in range(len(a)):\n",
        "    print(i, \"index\", a[i])\n",
        "a=[10,20,30,40,50]\n",
        "iterating(a)\n"
      ]
    },
    {
      "cell_type": "code",
      "source": [
        "def copying(a):\n",
        "  b=[None]*len(a)\n",
        "  for i in range(len(a)):\n",
        "    b[i]=a[i]\n",
        "  return b\n",
        "a=[10,20,30,40,50]\n",
        "x=copying(a)\n",
        "print(x)\n"
      ],
      "metadata": {
        "colab": {
          "base_uri": "https://localhost:8080/"
        },
        "id": "7LzyuhJbAXtn",
        "outputId": "559e2816-27d4-4865-af40-a2b7438e6ed5"
      },
      "execution_count": 2,
      "outputs": [
        {
          "output_type": "stream",
          "name": "stdout",
          "text": [
            "[10, 20, 30, 40, 50]\n"
          ]
        }
      ]
    },
    {
      "cell_type": "code",
      "source": [
        "def resizing(a, n):\n",
        "  b=[None]*n\n",
        "  for i in range(len(a)):\n",
        "    b[i]=a[i]\n",
        "  return b\n",
        "a=[10,20,30,40,50]\n",
        "x=resizing(a, 10)\n",
        "print(x)\n"
      ],
      "metadata": {
        "colab": {
          "base_uri": "https://localhost:8080/"
        },
        "id": "5_M51RfAAZ6B",
        "outputId": "af5f0dfe-0ce5-4eee-8595-0e6a8fee7b09"
      },
      "execution_count": 3,
      "outputs": [
        {
          "output_type": "stream",
          "name": "stdout",
          "text": [
            "[10, 20, 30, 40, 50, None, None, None, None, None]\n"
          ]
        }
      ]
    },
    {
      "cell_type": "code",
      "source": [
        "def reversing(a):\n",
        "  temp=''\n",
        "  for i in range(len(a)):\n",
        "    if i<=(len(a))/2:\n",
        "      temp=a[i]\n",
        "      a[i]=a[len(a)-i-1]\n",
        "      a[len(a)-i-1]=temp\n",
        "    else:\n",
        "      break\n",
        "  print(a)\n",
        "a=[10,20,30,40,50]\n",
        "reversing(a)\n"
      ],
      "metadata": {
        "colab": {
          "base_uri": "https://localhost:8080/"
        },
        "id": "mYdbz3vbAdgm",
        "outputId": "307fe0a9-4601-4dd8-964c-d162ab06ae8f"
      },
      "execution_count": 4,
      "outputs": [
        {
          "output_type": "stream",
          "name": "stdout",
          "text": [
            "[50, 40, 30, 20, 10]\n"
          ]
        }
      ]
    },
    {
      "cell_type": "code",
      "source": [
        "def left_shifting(a,k):\n",
        "  temp=0\n",
        "  for i in range(k):\n",
        "    for i in range(len(a)-1):\n",
        "        a[i]=a[i+1]\n",
        "        a[i+1]=temp\n",
        "  print(a)\n",
        "a=[10,20,30,40,50,60]\n",
        "left_shifting(a,2)\n"
      ],
      "metadata": {
        "colab": {
          "base_uri": "https://localhost:8080/"
        },
        "id": "vyYh3EuwAggd",
        "outputId": "6dc8302f-49b7-4307-b396-1d4bf400170a"
      },
      "execution_count": 5,
      "outputs": [
        {
          "output_type": "stream",
          "name": "stdout",
          "text": [
            "[30, 40, 50, 60, 0, 0]\n"
          ]
        }
      ]
    },
    {
      "cell_type": "code",
      "source": [
        "def right_shifting(a,k):\n",
        "  for i in range(k):\n",
        "    temp=0\n",
        "    for i in range(len(a)-1):\n",
        "      a[len(a)-1-i]=a[len(a)-2-i]\n",
        "      a[len(a)-2-i]=temp\n",
        "  print(a)\n",
        "a=[10,20,30,40,50,60]\n",
        "right_shifting(a,4)\n"
      ],
      "metadata": {
        "colab": {
          "base_uri": "https://localhost:8080/"
        },
        "id": "BU-qvqRNAi6x",
        "outputId": "42a7eaa3-c590-4e73-ce98-442466d59dd1"
      },
      "execution_count": 6,
      "outputs": [
        {
          "output_type": "stream",
          "name": "stdout",
          "text": [
            "[0, 0, 0, 0, 10, 20]\n"
          ]
        }
      ]
    },
    {
      "cell_type": "code",
      "source": [
        "def left_rotating(a,k):\n",
        "  for i in range(k):\n",
        "    temp=a[0]\n",
        "    for i in range(len(a)-1):\n",
        "      a[i]=a[i+1]\n",
        "    a[len(a)-1]=temp\n",
        "  print(a)\n",
        "a=[10,20,30,40,50,60]\n",
        "left_rotating(a,4)\n"
      ],
      "metadata": {
        "colab": {
          "base_uri": "https://localhost:8080/"
        },
        "id": "3BLxJM09AlJs",
        "outputId": "45c06039-968f-45c1-9f89-f80ee173f962"
      },
      "execution_count": 7,
      "outputs": [
        {
          "output_type": "stream",
          "name": "stdout",
          "text": [
            "[50, 60, 10, 20, 30, 40]\n"
          ]
        }
      ]
    },
    {
      "cell_type": "code",
      "source": [
        "def right_rotating(a,k):\n",
        "  for i in range(k):\n",
        "    temp=a[len(a)-1]\n",
        "    for i in range(len(a)-1):\n",
        "      a[len(a)-1-i]=a[len(a)-2-i]\n",
        "    a[0]=temp\n",
        "  print(a)\n",
        "a=[10,20,30,40,50,60]\n",
        "right_rotating(a,4)\n"
      ],
      "metadata": {
        "colab": {
          "base_uri": "https://localhost:8080/"
        },
        "id": "oazwAT5xAnc2",
        "outputId": "89cc81ee-cd29-41c7-c3b7-b1e2e3b78dc9"
      },
      "execution_count": 8,
      "outputs": [
        {
          "output_type": "stream",
          "name": "stdout",
          "text": [
            "[30, 40, 50, 60, 10, 20]\n"
          ]
        }
      ]
    },
    {
      "cell_type": "code",
      "source": [
        "def element_deleting(a,k):\n",
        "  temp=0\n",
        "  for i in range(len(a)-1):\n",
        "        if i>k or i==k:\n",
        "          a[i]=a[i+1]\n",
        "        else:\n",
        "          continue\n",
        "  a[i+1]=temp\n",
        "  return(a)\n",
        "a=[10,20,30,40,50,0,0]\n",
        "print(element_deleting(a,2))\n"
      ],
      "metadata": {
        "colab": {
          "base_uri": "https://localhost:8080/"
        },
        "id": "YZo5xXStApar",
        "outputId": "dd863a7a-b201-418a-b599-80eeb2777d3b"
      },
      "execution_count": 9,
      "outputs": [
        {
          "output_type": "stream",
          "name": "stdout",
          "text": [
            "[10, 20, 40, 50, 0, 0, 0]\n"
          ]
        }
      ]
    },
    {
      "cell_type": "code",
      "source": [
        "def element_deleting(a,k):\n",
        "  temp=0\n",
        "  for i in range(len(a)-1):\n",
        "        if i>k or i==k:\n",
        "          a[i]=a[i+1]\n",
        "        else:\n",
        "          continue\n",
        "  a[i+1]=temp\n",
        "  return(a)\n",
        "def occurrences(a):\n",
        "  count=0\n",
        "  for i in range(len(a)-1):\n",
        "    for j in range(len(a)-1):\n",
        "      if a[i]==a[j]:\n",
        "        count+=1\n",
        "      else:\n",
        "        continue\n",
        "    if count >1:\n",
        "      element_deleting(a,i)\n",
        "    else:\n",
        "      continue\n",
        "print(a)\n",
        "a=[10,2,30,2,50,2,2,0,0]\n",
        "occurrences(a)\n"
      ],
      "metadata": {
        "colab": {
          "base_uri": "https://localhost:8080/"
        },
        "id": "7oBFvK92A1CI",
        "outputId": "73d119f2-76da-4ae2-c600-13cc8a920943"
      },
      "execution_count": 10,
      "outputs": [
        {
          "output_type": "stream",
          "name": "stdout",
          "text": [
            "[10, 20, 40, 50, 0, 0, 0]\n"
          ]
        }
      ]
    },
    {
      "cell_type": "code",
      "source": [
        "def remove(source, idx):\n",
        "  temp=0\n",
        "  a=source\n",
        "  for i in range(len(a)-1):\n",
        "        if i>idx or i==idx:\n",
        "          a[i]=a[i+1]\n",
        "        else:\n",
        "          continue\n",
        "  a[i+1]=temp\n",
        "  return (a)\n",
        "def remove_all(source, element):\n",
        "  a=source\n",
        "  e=element\n",
        "  for i in range(len(a)-1):\n",
        "    if a[i]==e:\n",
        "      remove(a,i)\n",
        "    else:\n",
        "      continue\n",
        "  print(a)\n",
        "a=[11,22,33,44,55]\n",
        "x=remove(a,2)\n",
        "print(x)\n",
        "remove_all(a,22)\n"
      ],
      "metadata": {
        "colab": {
          "base_uri": "https://localhost:8080/"
        },
        "id": "-QjGINn2BQSb",
        "outputId": "beede83a-e2a3-4d70-ac0f-c22ef9a3cf78"
      },
      "execution_count": 11,
      "outputs": [
        {
          "output_type": "stream",
          "name": "stdout",
          "text": [
            "[11, 22, 44, 55, 0]\n",
            "[11, 44, 55, 0, 0]\n"
          ]
        }
      ]
    },
    {
      "cell_type": "code",
      "source": [
        "# Test 07: Splitting an Array\n",
        "def split_array(a):\n",
        "  x=(len(a))//2\n",
        "  y=x+1\n",
        "  sum1=0\n",
        "  sum2=0\n",
        "  sum3=0\n",
        "  sum4=0\n",
        "  for i in range(len(a)):\n",
        "    if i in range(x):\n",
        "      sum1=sum1+a[i]\n",
        "    else:\n",
        "      sum2=sum2+a[i]\n",
        "  for i in range(len(a)):\n",
        "    if i in range(y):\n",
        "      sum3=sum3+a[i]\n",
        "    else:\n",
        "      sum4=sum4+a[i]\n",
        "  if sum1==sum2 or sum3==sum4:\n",
        "    print(True)\n",
        "  else:\n",
        "    print(False)\n",
        "test_1 = [1, 1, 1, 2, 1] # Here splitting is possible as summation of [1, 1, 1] = summation of [2,1]\n",
        "returned_value = split_array(test_1) # This should return True\n",
        "test_2 = [2, 1, 1, 2, 1] # Here splitting is not possible\n",
        "returned_value = split_array(test_2) # This should return False\n",
        "test_3 = [10, 3, 1, 2, 10] # Here splitting is possible as summation of [10, 3] = summation of [1,2,10]\n",
        "returned_value = split_array(test_3) # This should return True\n"
      ],
      "metadata": {
        "colab": {
          "base_uri": "https://localhost:8080/"
        },
        "id": "qez68v2EBTQK",
        "outputId": "e3ed5aea-49a9-43be-c75d-bc14a2510ec6"
      },
      "execution_count": 12,
      "outputs": [
        {
          "output_type": "stream",
          "name": "stdout",
          "text": [
            "True\n",
            "False\n",
            "True\n"
          ]
        }
      ]
    },
    {
      "cell_type": "code",
      "source": [
        "# Test 08: Max Bunch Count\n",
        "def max_bunch(a):\n",
        "\n",
        "  for i in range(len(a)):\n",
        "    count=0\n",
        "    for j in range(len(a)):\n",
        "      if a[i]==a[j]:\n",
        "        count=count+1\n",
        "  return count\n",
        "\n",
        "print(\"///  Test 08: Max Bunch Count  ///\")\n",
        "returned_value = max_bunch([1, 2, 2, 3, 4, 4, 4]) # This should return 3\n",
        "returned_value = max_bunch([1, 1, 2, 2, 1, 1, 1, 1]) # This should return 4\n"
      ],
      "metadata": {
        "colab": {
          "base_uri": "https://localhost:8080/"
        },
        "id": "Ltzl-NUTBWHT",
        "outputId": "61f8931f-f427-4c06-c2c2-116705e44265"
      },
      "execution_count": 13,
      "outputs": [
        {
          "output_type": "stream",
          "name": "stdout",
          "text": [
            "///  Test 08: Max Bunch Count  ///\n"
          ]
        }
      ]
    }
  ]
}